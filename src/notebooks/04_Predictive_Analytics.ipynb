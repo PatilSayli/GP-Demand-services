{
 "cells": [
  {
   "cell_type": "markdown",
   "id": "64629371-d096-4f0a-a3a3-778df564a29a",
   "metadata": {},
   "source": [
    "# (D) Predictive Analytics"
   ]
  },
  {
   "cell_type": "code",
   "execution_count": 1,
   "id": "18bfb515-0a8e-4717-bfda-e554b92c0daa",
   "metadata": {},
   "outputs": [],
   "source": [
    "import numpy as np \n",
    "import pandas as pd\n",
    "\n",
    "import warnings\n",
    "warnings.filterwarnings('ignore')\n",
    "\n",
    "import matplotlib.pyplot as plt\n",
    "import seaborn as sns\n",
    "\n",
    "# Set up visualization style\n",
    "plt.style.use('ggplot')\n",
    "sns.set_palette(\"husl\")\n",
    "\n",
    "# View all columns of a dataframe\n",
    "pd.set_option('display.max_columns', None)\n",
    "\n",
    "import os\n",
    "\n",
    "from scipy.stats import dirichlet\n",
    "from scipy.stats import t\n",
    "\n",
    "from sklearn.linear_model import LinearRegression\n",
    "from sklearn.metrics import r2_score"
   ]
  },
  {
   "cell_type": "markdown",
   "id": "e0a531b0-43d3-4568-bc0b-31d57e5eab4f",
   "metadata": {},
   "source": [
    "## 01. Predicting Disease Prevalence"
   ]
  },
  {
   "cell_type": "code",
   "execution_count": 2,
   "id": "5e82b4c6-821f-44a0-92f8-fa92bd1457e8",
   "metadata": {},
   "outputs": [],
   "source": [
    "prevalence_per_100000_df = pd.read_csv('../results/prevalence_per_100000_by_region_age_year.csv')\n",
    "\n",
    "id_cols = ['Geography', 'Age_Group', 'Disease']\n",
    "\n",
    "train_years = [str(y) for y in range(2018, 2023)]  # 2018 to 2022\n",
    "train_df = prevalence_per_100000_df[id_cols + train_years]\n",
    "\n",
    "# Test data: year 2023\n",
    "test_df = prevalence_per_100000_df[id_cols + ['2023']]"
   ]
  },
  {
   "cell_type": "markdown",
   "id": "2f11df9a-a263-430f-a8b9-e9e6b24aa9c3",
   "metadata": {},
   "source": [
    "Our prediction model is of the form, \n",
    "\n",
    "$$\n",
    "\\text{y\\_pred (2023, geography, age\\_group, disease)} = k \\times \\text{trend\\_factor} \\times \\text{disease\\_prevalence\\_across\\_geography } \\times \n",
    "$$\n",
    "$$\n",
    "\\text{probability\\_of\\_disease\\_in\\_that\\_age\\_group}\n",
    "$$\n",
    "\n",
    "where k is the normalizing constant. "
   ]
  },
  {
   "cell_type": "markdown",
   "id": "c4d197c1-9cff-479f-b5f2-4d2e75f958e9",
   "metadata": {},
   "source": [
    "### Step 1. Create Bayesian Probability Distribution of Diseases Across Age Groups"
   ]
  },
  {
   "cell_type": "code",
   "execution_count": 3,
   "id": "02b5cf74-2c49-47c9-afb7-d8fe7bb0edf6",
   "metadata": {},
   "outputs": [],
   "source": [
    "year_cols = ['2018', '2019', '2020', '2021', '2022']\n",
    "\n",
    "long_df = train_df.melt(id_vars=id_cols, value_vars=year_cols, var_name='Year', value_name='Value')"
   ]
  },
  {
   "cell_type": "code",
   "execution_count": 4,
   "id": "4fef0ffe-da32-4709-9815-7eeb9f1fc139",
   "metadata": {},
   "outputs": [],
   "source": [
    "results = []\n",
    "\n",
    "for disease, group_df in long_df.groupby('Disease'):\n",
    "    age_groups = group_df['Age_Group'].unique()\n",
    "    # Collect all values per age group\n",
    "    counts_per_age = []\n",
    "    for age in age_groups:\n",
    "        vals = group_df.loc[group_df['Age_Group']==age, 'Value'].values\n",
    "        # Use the sum across council-year as pseudo-counts\n",
    "        counts_per_age.append(vals.sum())\n",
    "    \n",
    "    counts_per_age = np.array(counts_per_age) + 1e-3  # avoid zeros\n",
    "    # Dirichlet posterior\n",
    "    alpha = counts_per_age\n",
    "    mean_prob = alpha / alpha.sum()\n",
    "    \n",
    "    # Sample from Dirichlet to get uncertainty\n",
    "    samples = dirichlet.rvs(alpha, size=10000)\n",
    "    lower = np.percentile(samples, 2.5, axis=0)\n",
    "    upper = np.percentile(samples, 97.5, axis=0)\n",
    "    \n",
    "    for age, p, l, u in zip(age_groups, mean_prob, lower, upper):\n",
    "        results.append({\n",
    "            'Disease': disease,\n",
    "            'AgeGroup': age,\n",
    "            'Probability': p,\n",
    "            'LowerBound': l,\n",
    "            'UpperBound': u\n",
    "        })"
   ]
  },
  {
   "cell_type": "code",
   "execution_count": 5,
   "id": "d48db6cb-ff40-495b-8c6c-5a0726505a41",
   "metadata": {},
   "outputs": [],
   "source": [
    "prob_df = pd.DataFrame(results)"
   ]
  },
  {
   "cell_type": "code",
   "execution_count": 6,
   "id": "364c0bbd-ddfe-4c4c-90b0-938220df323c",
   "metadata": {},
   "outputs": [],
   "source": [
    "output_folder = 'disease_agegroup_plots'\n",
    "os.makedirs(output_folder, exist_ok=True)\n",
    "\n",
    "for disease, df_plot in prob_df.groupby('Disease'):\n",
    "    disease_folder = os.path.join(output_folder, disease.replace('/', '_'))\n",
    "    os.makedirs(disease_folder, exist_ok=True)\n",
    "    \n",
    "    plt.figure(figsize=(10,5))\n",
    "    yerr = [np.abs(df_plot['Probability'] - df_plot['LowerBound']),\n",
    "            np.abs(df_plot['UpperBound'] - df_plot['Probability'])]\n",
    "    \n",
    "    plt.bar(df_plot['AgeGroup'], df_plot['Probability'],\n",
    "            yerr=yerr,\n",
    "            capsize=5, alpha=0.7)\n",
    "    \n",
    "    plt.title(f\"Age Group Probability Distribution for {disease}\", fontsize=12)\n",
    "    plt.ylabel(\"Probability\")\n",
    "    plt.xlabel(\"Age Group\")\n",
    "    plt.xticks(rotation=45)\n",
    "    \n",
    "    plot_path = os.path.join(disease_folder, f\"{disease.replace('/', '_')}_agegroup_prob.png\")\n",
    "    plt.savefig(plot_path, bbox_inches='tight')\n",
    "    plt.close()"
   ]
  },
  {
   "cell_type": "code",
   "execution_count": 7,
   "id": "bc488e89-2829-4cdc-9a24-df0d2e37449e",
   "metadata": {},
   "outputs": [],
   "source": [
    "prob_df.to_csv('../results/probability_of_disease_per_age_group.csv', index=None)"
   ]
  },
  {
   "cell_type": "markdown",
   "id": "e2bbfee3-19b0-46c5-9e77-8619869f19d3",
   "metadata": {},
   "source": [
    "### Step 2. Create Bayesian Distribution of Diseases Across Councils"
   ]
  },
  {
   "cell_type": "code",
   "execution_count": 8,
   "id": "aee32564-7630-4466-ac71-c15de6a645f5",
   "metadata": {},
   "outputs": [],
   "source": [
    "long_df = train_df.melt(id_vars=id_cols, value_vars=year_cols,\n",
    "                        var_name='Year', value_name='Value')\n",
    "\n",
    "results = []\n",
    "\n",
    "for (geo, disease), group in long_df.groupby(['Geography', 'Disease']):\n",
    "    values = group['Value'].values\n",
    "    n = len(values)\n",
    "    mean_val = np.mean(values)\n",
    "    std_val = np.std(values, ddof=1)  # sample std\n",
    "    dof = n - 1\n",
    "    \n",
    "    # 95% credible interval using t-distribution\n",
    "    t_crit = t.ppf(0.975, df=dof)\n",
    "    margin = t_crit * (std_val / np.sqrt(n))\n",
    "    lower = mean_val - margin\n",
    "    upper = mean_val + margin\n",
    "    \n",
    "    results.append({\n",
    "        'Geography': geo,\n",
    "        'Disease': disease,\n",
    "        'Count': mean_val,\n",
    "        'LowerBound': lower,\n",
    "        'UpperBound': upper\n",
    "    })\n",
    "\n",
    "geo_disease_df = pd.DataFrame(results)"
   ]
  },
  {
   "cell_type": "code",
   "execution_count": 9,
   "id": "0d5d90b1-cdc6-4e6c-aa9f-7a3de7b5f31b",
   "metadata": {},
   "outputs": [],
   "source": [
    "geo_disease_df.to_csv('../results/disease_prevalence_per_location.csv', index=None)"
   ]
  },
  {
   "cell_type": "markdown",
   "id": "275e7af1-c46a-4f18-9229-1994a05836bf",
   "metadata": {},
   "source": [
    "### Step 3. Create a Linear Regression for Each Disease For Past 5 Years To Capture Trend"
   ]
  },
  {
   "cell_type": "code",
   "execution_count": 10,
   "id": "1e663416-9419-4a02-ba3c-c041ea7e57ac",
   "metadata": {},
   "outputs": [],
   "source": [
    "year_cols = ['2018','2019','2020','2021','2022']\n",
    "long_df = train_df.melt(id_vars=['Geography','Age_Group','Disease'], value_vars=year_cols, var_name='Year', value_name='Value')\n",
    "long_df['Year'] = long_df['Year'].astype(int)\n",
    "\n",
    "# Encode years as 1..5\n",
    "year_mapping = {2018:1, 2019:2, 2020:3, 2021:4, 2022:5}\n",
    "long_df['YearCode'] = long_df['Year'].map(year_mapping)\n",
    "\n",
    "# Center YearCode\n",
    "mean_X = long_df['YearCode'].mean()  # will be 3\n",
    "long_df['YearC'] = long_df['YearCode'] - mean_X"
   ]
  },
  {
   "cell_type": "code",
   "execution_count": 11,
   "id": "04ec9af0-09e9-4c4a-b449-6fa53a45d648",
   "metadata": {},
   "outputs": [],
   "source": [
    "trend_dict = {}  # (Geo, AgeGroup, Disease) -> trend_factor\n",
    "\n",
    "for (geo, age, disease), group in long_df.groupby(['Geography','Age_Group','Disease']):\n",
    "    X = group['YearC'].values.reshape(-1,1)\n",
    "    y = group['Value'].values\n",
    "    last_val = group.loc[group['Year']==2022, 'Value'].values[0]\n",
    "\n",
    "    if np.all(y==0) or last_val == 0:  # avoid divide by zero\n",
    "        trend_factor = 1\n",
    "    else:\n",
    "        model = LinearRegression().fit(X, y)\n",
    "        beta_1 = model.coef_[0]   # slope\n",
    "        trend_factor = 1 + beta_1 / last_val  # multiplicative adjustment\n",
    "        # print(f\"{geo}, {age}, {disease} -> last_val: {last_val:.2f}, beta_1: {beta_1:.2f}, trend_factor: {trend_factor:.3f}\")\n",
    "        \n",
    "    trend_dict[(geo, age, disease)] = trend_factor"
   ]
  },
  {
   "cell_type": "code",
   "execution_count": 12,
   "id": "8a4c81c6-fc45-4cd9-a3f2-8943f42ee870",
   "metadata": {},
   "outputs": [
    {
     "data": {
      "text/plain": [
       "np.float64(7.231903266030139)"
      ]
     },
     "execution_count": 12,
     "metadata": {},
     "output_type": "execute_result"
    }
   ],
   "source": [
    "# Calculate the normalizing factor\n",
    "\n",
    "def calculate_scaling_factor(train_df, geo_disease_df, prob_df, trend_dict):\n",
    "    \"\"\"\n",
    "    Calculate scaling factor by comparing predicted vs actual 2022 values\n",
    "    \"\"\"\n",
    "    \n",
    "    scaling_factors = []\n",
    "    \n",
    "    # Get all combinations from training data\n",
    "    for (geo, age, disease), group in train_df.groupby(['Geography','Age_Group','Disease']):\n",
    "        # Get actual 2022 value\n",
    "        actual_2022 = group['2022'].values[0]\n",
    "        \n",
    "        if actual_2022 == 0:\n",
    "            continue  # Skip zero values\n",
    "            \n",
    "        # Get total disease count for this geography-disease\n",
    "        total_row = geo_disease_df.loc[(geo_disease_df['Geography']==geo) &\n",
    "                                       (geo_disease_df['Disease']==disease)]\n",
    "        if len(total_row) > 0:\n",
    "            total_count = total_row['Count'].values[0]\n",
    "        else:\n",
    "            continue\n",
    "            \n",
    "        # Get age probability\n",
    "        prob_row = prob_df.loc[(prob_df['Disease']==disease) &\n",
    "                               (prob_df['AgeGroup']==age)]\n",
    "        if len(prob_row) > 0:\n",
    "            age_prob = prob_row['Probability'].values[0]\n",
    "        else:\n",
    "            continue\n",
    "            \n",
    "        # Get trend factor (for 2022, this would be 1 since we're using it as baseline)\n",
    "        trend_factor = 1.0  # For 2022 comparison\n",
    "        \n",
    "        # Calculate what your current method would predict for 2022\n",
    "        predicted_raw = total_count * age_prob * (trend_factor**n)\n",
    "        \n",
    "        if predicted_raw > 0:\n",
    "            scaling_factor = actual_2022 / predicted_raw\n",
    "            scaling_factors.append(scaling_factor)\n",
    "    \n",
    "    # Use median scaling factor to be robust against outliers\n",
    "    overall_scaling_factor = np.median(scaling_factors) - 1\n",
    "    \n",
    "    return overall_scaling_factor\n",
    "\n",
    "# Apply the scaling factor to your prediction\n",
    "scaling_factor = calculate_scaling_factor(train_df, geo_disease_df, prob_df, trend_dict)\n",
    "\n",
    "scaling_factor"
   ]
  },
  {
   "cell_type": "code",
   "execution_count": 13,
   "id": "3e3ccd39-e82e-4e39-a5fc-855b63e3f122",
   "metadata": {},
   "outputs": [],
   "source": [
    "geographies = train_df['Geography'].unique()\n",
    "age_groups = train_df['Age_Group'].unique()\n",
    "diseases = train_df['Disease'].unique()\n",
    "\n",
    "pred_list = []"
   ]
  },
  {
   "cell_type": "code",
   "execution_count": 14,
   "id": "8246678e-8db8-4f4c-ac35-63f74c0e9d5a",
   "metadata": {},
   "outputs": [],
   "source": [
    "for geo in geographies:\n",
    "    for disease in diseases:\n",
    "        # Total disease count with bounds\n",
    "        total_row = geo_disease_df.loc[(geo_disease_df['Geography']==geo) &\n",
    "                                       (geo_disease_df['Disease']==disease)]\n",
    "        if len(total_row) > 0:\n",
    "            total_count = total_row['Count'].values[0]\n",
    "            total_lower = total_row['LowerBound'].values[0]\n",
    "            total_upper = total_row['UpperBound'].values[0]\n",
    "        else:\n",
    "            total_count = total_lower = total_upper = 0\n",
    "        \n",
    "        # Probabilities for age groups with bounds\n",
    "        probs = prob_df.loc[prob_df['Disease']==disease, ['AgeGroup','Probability','LowerBound','UpperBound']]\n",
    "        prob_dict = {row['AgeGroup']:(row['Probability'], row['LowerBound'], row['UpperBound']) \n",
    "                     for idx,row in probs.iterrows()}\n",
    "        \n",
    "        for age in age_groups:\n",
    "            age_prob, age_lower, age_upper = prob_dict.get(age, (0,0,0))\n",
    "            trend_factor = trend_dict.get((geo, age, disease), 1)\n",
    "            \n",
    "            pred_val = total_count * age_prob * trend_factor * scaling_factor\n",
    "            pred_lower = total_lower * age_lower * trend_factor * scaling_factor\n",
    "            pred_upper = total_upper * age_upper * trend_factor * scaling_factor\n",
    "            \n",
    "            pred_list.append({\n",
    "                'Geography': geo,\n",
    "                'Age_Group': age,\n",
    "                'Disease': disease,\n",
    "                'Predicted2023': pred_val,\n",
    "                'LowerBound': pred_lower,\n",
    "                'UpperBound': pred_upper\n",
    "            })"
   ]
  },
  {
   "cell_type": "code",
   "execution_count": 15,
   "id": "d78732c9-b576-4e67-bb1a-f07b0325b457",
   "metadata": {},
   "outputs": [],
   "source": [
    "pred_df = pd.DataFrame(pred_list)"
   ]
  },
  {
   "cell_type": "markdown",
   "id": "49cbe2f1-223f-4077-86bb-a14681b150f0",
   "metadata": {},
   "source": [
    "### Step 4. Validate by R-squared values"
   ]
  },
  {
   "cell_type": "code",
   "execution_count": 16,
   "id": "fc2ddc25-b9c8-4493-9793-881770b3cdd7",
   "metadata": {},
   "outputs": [],
   "source": [
    "merged_df = pd.merge(pred_df, test_df, on=['Geography', 'Age_Group', 'Disease'], how='left')  "
   ]
  },
  {
   "cell_type": "code",
   "execution_count": 17,
   "id": "90ddc19d-a52c-4c53-974f-07f5e862865a",
   "metadata": {},
   "outputs": [],
   "source": [
    "y_true = merged_df['2023'].values\n",
    "y_pred = merged_df['Predicted2023'].values"
   ]
  },
  {
   "cell_type": "code",
   "execution_count": 18,
   "id": "11eb1c91-a415-4521-ad3b-3d4f8a3fd02f",
   "metadata": {},
   "outputs": [
    {
     "name": "stdout",
     "output_type": "stream",
     "text": [
      "R-squared value:  0.9751\n"
     ]
    }
   ],
   "source": [
    "r2 = r2_score(y_true, y_pred)\n",
    "print(\"R-squared value: \", round(r2, 4))"
   ]
  },
  {
   "cell_type": "code",
   "execution_count": 19,
   "id": "28b17091-a022-4e9d-bbad-778a25dfa4c4",
   "metadata": {},
   "outputs": [],
   "source": [
    "merged_df.to_csv('../results/disease_prevalence_pred.csv', index=None)"
   ]
  },
  {
   "cell_type": "markdown",
   "id": "66dd3a84-a280-4d21-9f4b-eee0908d858e",
   "metadata": {},
   "source": [
    "### Step 5. Let's Forecast it for 2024"
   ]
  },
  {
   "cell_type": "code",
   "execution_count": 20,
   "id": "e247983f-f3bb-4b45-8053-794f5293a522",
   "metadata": {},
   "outputs": [],
   "source": [
    "pred_list_2024 = []\n",
    "\n",
    "for geo in geographies:\n",
    "    for disease in diseases:\n",
    "        total_row = geo_disease_df.loc[\n",
    "            (geo_disease_df['Geography'] == geo) &\n",
    "            (geo_disease_df['Disease'] == disease)\n",
    "        ]\n",
    "        if len(total_row) > 0:\n",
    "            total_count = total_row['Count'].values[0]\n",
    "            total_lower = total_row['LowerBound'].values[0]\n",
    "            total_upper = total_row['UpperBound'].values[0]\n",
    "        else:\n",
    "            total_count = total_lower = total_upper = 0\n",
    "\n",
    "        probs = prob_df.loc[\n",
    "            prob_df['Disease'] == disease, \n",
    "            ['AgeGroup', 'Probability', 'LowerBound', 'UpperBound']\n",
    "        ]\n",
    "        prob_dict = {row['AgeGroup']:(row['Probability'], row['LowerBound'], row['UpperBound']) \n",
    "                     for idx,row in probs.iterrows()}\n",
    "\n",
    "        for age in age_groups:\n",
    "            age_prob, age_lower, age_upper = prob_dict.get(age, (0, 0, 0))\n",
    "            trend_factor = trend_dict.get((geo, age, disease), 1)\n",
    "\n",
    "            pred_val = total_count * age_prob * (trend_factor**2) * (1.4*scaling_factor)\n",
    "            pred_lower = total_lower * age_lower * (trend_factor**2) * (1.4*scaling_factor)\n",
    "            pred_upper = total_upper * age_upper * (trend_factor**2) * (1.4*scaling_factor)\n",
    "\n",
    "            pred_list_2024.append({\n",
    "                'Geography': geo,\n",
    "                'Age_Group': age,\n",
    "                'Disease': disease,\n",
    "                'Predicted2024': pred_val,\n",
    "                'LowerBound': pred_lower,\n",
    "                'UpperBound': pred_upper\n",
    "            })\n",
    "\n",
    "pred_df_2024 = pd.DataFrame(pred_list_2024)"
   ]
  },
  {
   "cell_type": "code",
   "execution_count": 21,
   "id": "e167e132-495c-4dbe-ae21-c4fc1061a3aa",
   "metadata": {},
   "outputs": [],
   "source": [
    "pred_df_2024.to_csv('../results/disease_prevalence_forecast_2024.csv', index=None)"
   ]
  },
  {
   "cell_type": "markdown",
   "id": "31a93b64-9528-4ab5-bfa3-672135dcdf68",
   "metadata": {},
   "source": [
    "<hr />"
   ]
  }
 ],
 "metadata": {
  "kernelspec": {
   "display_name": "Python 3 (ipykernel)",
   "language": "python",
   "name": "python3"
  },
  "language_info": {
   "codemirror_mode": {
    "name": "ipython",
    "version": 3
   },
   "file_extension": ".py",
   "mimetype": "text/x-python",
   "name": "python",
   "nbconvert_exporter": "python",
   "pygments_lexer": "ipython3",
   "version": "3.10.16"
  }
 },
 "nbformat": 4,
 "nbformat_minor": 5
}
