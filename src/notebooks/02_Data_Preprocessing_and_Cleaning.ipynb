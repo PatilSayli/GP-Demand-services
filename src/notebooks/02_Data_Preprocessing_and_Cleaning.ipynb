{
 "cells": [
  {
   "cell_type": "markdown",
   "id": "5e53cdad-075c-46f8-a441-41e6e68b472d",
   "metadata": {},
   "source": [
    "# (B) Data Cleaning & Creating Final Usable Dataframes"
   ]
  },
  {
   "cell_type": "code",
   "execution_count": 1,
   "id": "fdf387f8-ff0b-4ceb-b815-4c7b795fd5b6",
   "metadata": {},
   "outputs": [],
   "source": [
    "import numpy as np \n",
    "import pandas as pd\n",
    "\n",
    "import warnings\n",
    "warnings.filterwarnings('ignore')\n",
    "\n",
    "import re\n",
    "import json\n",
    "\n",
    "import os\n",
    "\n",
    "# View all columns of a dataframe\n",
    "pd.set_option('display.max_columns', None)"
   ]
  },
  {
   "cell_type": "code",
   "execution_count": 2,
   "id": "92d1dd89-4d93-4079-ab3b-e2e2e29b6c37",
   "metadata": {},
   "outputs": [],
   "source": [
    "os.makedirs('../data', exist_ok=True)  "
   ]
  },
  {
   "cell_type": "markdown",
   "id": "3ffc2886-cbb4-4ae6-8b54-5fc5bd858815",
   "metadata": {},
   "source": [
    "## 00. HSCP (Health and Social Care Partnership) & HB (Health Board) Data"
   ]
  },
  {
   "cell_type": "code",
   "execution_count": 3,
   "id": "443e13b0-84cb-4e3e-ac21-be9e73fb24d7",
   "metadata": {},
   "outputs": [],
   "source": [
    "hscp_df = pd.read_csv(\"../rawdata/hscp16_hscp19.csv\")\n",
    "\n",
    "hscp_df = hscp_df[['HSCP', 'HSCPName']]"
   ]
  },
  {
   "cell_type": "code",
   "execution_count": 4,
   "id": "aaba2907-3686-4669-a14f-9f61509cad54",
   "metadata": {},
   "outputs": [],
   "source": [
    "hscp_df.to_csv(\"../data/hscp.csv\", index=None)"
   ]
  },
  {
   "cell_type": "markdown",
   "id": "fe5d9d3a-a3f9-4c54-832e-c2b86f05c128",
   "metadata": {},
   "source": [
    "## 01. GP Practices Contact Details"
   ]
  },
  {
   "cell_type": "code",
   "execution_count": 5,
   "id": "1d951713-345e-4c3c-97b8-ba9a335efc10",
   "metadata": {},
   "outputs": [],
   "source": [
    "gp_practices_contact_details_df = pd.read_csv(\"../rawdata/practice_contactdetails_oct2024-open-data.csv\")"
   ]
  },
  {
   "cell_type": "code",
   "execution_count": 6,
   "id": "505bfd11-21b4-4148-ab90-4526c0f53c8b",
   "metadata": {},
   "outputs": [],
   "source": [
    "gp_practices_contact_details_df = gp_practices_contact_details_df.merge( hscp_df,\n",
    "    on=\"HSCP\",       \n",
    "    how=\"left\"\n",
    ")"
   ]
  },
  {
   "cell_type": "code",
   "execution_count": 7,
   "id": "c48886ea-f34f-4664-825c-f57ad6b89754",
   "metadata": {},
   "outputs": [],
   "source": [
    "gp_practices_relevant_columns = gp_practices_contact_details_df[['PracticeCode', 'GPPracticeName', 'PracticeListSize', 'Postcode', \n",
    "                                                                 'HSCPName', 'AddressLine4']]\n",
    "\n",
    "gp_practices_relevant_columns = gp_practices_relevant_columns.rename(columns={\"HSCPName\": \"Geography\"})"
   ]
  },
  {
   "cell_type": "code",
   "execution_count": 8,
   "id": "e393075f-87eb-4442-aa09-cda656491be7",
   "metadata": {},
   "outputs": [],
   "source": [
    "def assign_split_geography(addr):\n",
    "    if isinstance(addr, str) and addr.strip().lower() in [\"clackmannanshire\", \"sauchie\"]:\n",
    "        return \"Clackmannanshire\"\n",
    "    else:\n",
    "        return \"Stirling\"\n",
    "\n",
    "rows_to_split = gp_practices_relevant_columns[\n",
    "    gp_practices_relevant_columns[\"Geography\"] == \"Clackmannanshire and Stirling\"\n",
    "]\n",
    "\n",
    "# Assign new geography for these rows\n",
    "rows_to_split = rows_to_split.copy()\n",
    "rows_to_split[\"Geography\"] = rows_to_split[\"AddressLine4\"].apply(assign_split_geography)\n",
    "\n",
    "# Replace old combined row(s) with the new split ones\n",
    "gp_practices_relevant_columns = pd.concat([\n",
    "    gp_practices_relevant_columns[\n",
    "        gp_practices_relevant_columns[\"Geography\"] != \"Clackmannanshire and Stirling\"\n",
    "    ],\n",
    "    rows_to_split\n",
    "], ignore_index=True)"
   ]
  },
  {
   "cell_type": "code",
   "execution_count": 9,
   "id": "b8395fef-ee16-4b8d-b537-593708d0323d",
   "metadata": {},
   "outputs": [],
   "source": [
    "gp_practices_relevant_columns.drop(columns=['AddressLine4'], inplace=True)"
   ]
  },
  {
   "cell_type": "code",
   "execution_count": 10,
   "id": "03607d87-1c44-43f8-a7fb-ce55f6a05014",
   "metadata": {},
   "outputs": [],
   "source": [
    "gp_practices_relevant_columns.to_csv('../data/gp_practices.csv', index=None)"
   ]
  },
  {
   "cell_type": "markdown",
   "id": "ae239efd-f3d3-4343-8b21-4fe8d718d198",
   "metadata": {},
   "source": [
    "## 02. GP Contact Details"
   ]
  },
  {
   "cell_type": "code",
   "execution_count": 11,
   "id": "aa598b44-e2c4-48d5-b06a-c9dc28eb3e5d",
   "metadata": {},
   "outputs": [],
   "source": [
    "gp_contact_details_df = pd.read_csv(\"../rawdata/gp_contactdetails_oct2024-open-data.csv\")\n",
    "\n",
    "gp_relevant_columns = gp_contact_details_df[['GeneralMedicalCouncilNumber', 'PracticeCode', 'GPDesignation', 'Forename',\n",
    "       'MiddleInitial', 'Surname', 'Sex']]\n",
    "\n",
    "gp_relevant_columns.to_csv('../data/gps.csv', index=None)"
   ]
  },
  {
   "cell_type": "markdown",
   "id": "f09fb44f-56bf-4d2c-ae9f-740e88eab9b0",
   "metadata": {},
   "source": [
    "## 03. GP Practices List Sizes"
   ]
  },
  {
   "cell_type": "code",
   "execution_count": 12,
   "id": "2a0887f8-7d18-4f2d-8fe8-c0e5bc3dc071",
   "metadata": {},
   "outputs": [],
   "source": [
    "gp_practices_list_sizes_df = pd.read_csv(\"../rawdata/practice_listsizes_oct2024-open-data.csv\")\n",
    "\n",
    "gp_list_sizes = gp_practices_list_sizes_df[['PracticeCode', 'Sex', 'AllAges', 'Ages0to4', 'Ages5to14', 'Ages15to24', \n",
    "                                           'Ages25to44', 'Ages45to64', 'Ages65to74', 'Ages75to84', 'Ages85plus']]\n",
    "\n",
    "# Melt the dataframe\n",
    "gp_long = gp_list_sizes.melt(\n",
    "    id_vars=[\"PracticeCode\", \"Sex\"],   # Columns to keep\n",
    "    var_name=\"AgeGroup\",               # New column name for previous column headers\n",
    "    value_name=\"Count\"                 # New column name for values\n",
    ")\n",
    "\n",
    "gp_long.to_csv('../data/gp_list_sizes.csv', index=None)"
   ]
  },
  {
   "cell_type": "markdown",
   "id": "5cedef99-956d-4b3f-9dd6-79fc70c2c98f",
   "metadata": {},
   "source": [
    "## 04. Disease Prevalence by GP Practice"
   ]
  },
  {
   "cell_type": "code",
   "execution_count": 13,
   "id": "35c37372-eadb-4670-810e-19532a1d11ca",
   "metadata": {},
   "outputs": [],
   "source": [
    "disease_prevalence_gp_practice_df = pd.read_excel(\"../rawdata/diseaseprevalence_practice_total.xlsx\", sheet_name=\"DP_Practice_total\")"
   ]
  },
  {
   "cell_type": "code",
   "execution_count": 14,
   "id": "fe08a32d-1d7a-492f-9c9a-507cc2cd750b",
   "metadata": {},
   "outputs": [
    {
     "data": {
      "text/plain": [
       "array(['00-04', '05-09', '10-14', '15-19', '20-24', '25-29', '30-34',\n",
       "       '35-39', '40-44', '45-49', '50-54', '55-59', '60-64', '65-69',\n",
       "       '70-74', '75-79', '80-84', '85plus', 'All'], dtype=object)"
      ]
     },
     "execution_count": 14,
     "metadata": {},
     "output_type": "execute_result"
    }
   ],
   "source": [
    "disease_prevalence_gp_practice_df['Age'].unique()"
   ]
  },
  {
   "cell_type": "markdown",
   "id": "25512788-a962-4233-a8ed-fd7e4803d7af",
   "metadata": {},
   "source": [
    "`Age` column is divided into 19 age ranges. However, the GP list sizes dataframe has only 8 ranges (0-4, 5-14, 15-24, 25-44, 45-64, 65-74, 75-84, 85+). So we need to create another column and classify these into these 8 categories."
   ]
  },
  {
   "cell_type": "code",
   "execution_count": 15,
   "id": "eb1d2b9e-ede6-40c2-a142-b3cb772af194",
   "metadata": {},
   "outputs": [],
   "source": [
    "age_mapping = {\n",
    "    'All': 'AllAges',\n",
    "    '00-04': 'Ages0to4',\n",
    "    '05-09': 'Ages5to14', '10-14': 'Ages5to14',\n",
    "    '15-19': 'Ages15to24', '20-24': 'Ages15to24',\n",
    "    '25-29': 'Ages25to44', '30-34': 'Ages25to44', '35-39': 'Ages25to44', '40-44': 'Ages25to44',\n",
    "    '45-49': 'Ages45to64', '50-54': 'Ages45to64', '55-59': 'Ages45to64', '60-64': 'Ages45to64',\n",
    "    '65-69': 'Ages65to74', '70-74': 'Ages65to74',\n",
    "    '75-79': 'Ages75to84', '80-84': 'Ages75to84',\n",
    "    '85plus': 'Ages85plus'\n",
    "}"
   ]
  },
  {
   "cell_type": "code",
   "execution_count": 16,
   "id": "5b58de4d-cb42-4347-9c8a-ded2449893ca",
   "metadata": {},
   "outputs": [],
   "source": [
    "disease_prevalence_gp_practice_df['Age_Group'] = (\n",
    "    disease_prevalence_gp_practice_df['Age'].map(age_mapping)\n",
    ")"
   ]
  },
  {
   "cell_type": "code",
   "execution_count": 17,
   "id": "dc9359af-d9bf-46e9-85e4-481e433c5ac7",
   "metadata": {},
   "outputs": [],
   "source": [
    "disease_prevalence_relevant_columns = disease_prevalence_gp_practice_df[\n",
    "    ['PracticeCode', 'Year', 'Age', 'Age_Group', \n",
    "       'PatientCount_Asthma', 'PatientCount_Atrial Fibrillation',\n",
    "       'PatientCount_Cancer', 'PatientCount_Chronic Kidney Disease (CKD)',\n",
    "       'PatientCount_Chronic Obstructive Pulmonary Disease (COPD)',\n",
    "       'PatientCount_Coronary Heart Disease (CHD)', 'PatientCount_Dementia',\n",
    "       'PatientCount_Depression', 'PatientCount_Diabetes',\n",
    "       'PatientCount_Eating Disorder', 'PatientCount_Epilepsy',\n",
    "       'PatientCount_Heart Failure', 'PatientCount_Hypertension',\n",
    "       'PatientCount_Mental Health', 'PatientCount_Osteoporosis',\n",
    "       'PatientCount_Palliative Care',\n",
    "       'PatientCount_Peripheral Arterial Disease (PAD)',\n",
    "       'PatientCount_Rheumatoid Arthritis', 'PatientCount_Stroke and TIA',\n",
    "       'Change_Asthma', 'Change_Atrial Fibrillation', 'Change_Cancer',\n",
    "       'Change_Chronic Kidney Disease (CKD)',\n",
    "       'Change_Chronic Obstructive Pulmonary Disease (COPD)',\n",
    "       'Change_Coronary Heart Disease (CHD)', 'Change_Dementia',\n",
    "       'Change_Depression', 'Change_Diabetes', 'Change_Eating Disorder',\n",
    "       'Change_Epilepsy', 'Change_Heart Failure', 'Change_Hypertension',\n",
    "       'Change_Mental Health', 'Change_Osteoporosis', 'Change_Palliative Care',\n",
    "       'Change_Peripheral Arterial Disease (PAD)',\n",
    "       'Change_Rheumatoid Arthritis', 'Change_Stroke and TIA', 'Rate_Asthma',\n",
    "       'Rate_Atrial Fibrillation', 'Rate_Cancer',\n",
    "       'Rate_Chronic Kidney Disease (CKD)',\n",
    "       'Rate_Chronic Obstructive Pulmonary Disease (COPD)',\n",
    "       'Rate_Coronary Heart Disease (CHD)', 'Rate_Dementia', 'Rate_Depression',\n",
    "       'Rate_Diabetes', 'Rate_Eating Disorder', 'Rate_Epilepsy',\n",
    "       'Rate_Heart Failure', 'Rate_Hypertension', 'Rate_Mental Health',\n",
    "       'Rate_Osteoporosis', 'Rate_Palliative Care',\n",
    "       'Rate_Peripheral Arterial Disease (PAD)', 'Rate_Rheumatoid Arthritis',\n",
    "       'Rate_Stroke and TIA']\n",
    "]"
   ]
  },
  {
   "cell_type": "code",
   "execution_count": 18,
   "id": "80c2bd03-d371-40d8-be10-f8953173c0ef",
   "metadata": {},
   "outputs": [],
   "source": [
    "df = disease_prevalence_relevant_columns.copy()\n",
    "\n",
    "diseases = sorted(\n",
    "    set(col.replace(\"PatientCount_\", \"\")\n",
    "             .replace(\"Change_\", \"\")\n",
    "             .replace(\"Rate_\", \"\")\n",
    "        for col in df.columns if col.startswith((\"PatientCount_\", \"Change_\", \"Rate_\")))\n",
    ")\n",
    "\n",
    "for disease in diseases:\n",
    "    patient_col = f\"PatientCount_{disease}\"\n",
    "    change_col = f\"Change_{disease}\"\n",
    "    rate_col = f\"Rate_{disease}\"\n",
    "    \n",
    "    df[disease] = df.apply(lambda row: [row[patient_col], row[change_col], row[rate_col]], axis=1)\n",
    "\n",
    "drop_cols = [f\"PatientCount_{d}\" for d in diseases] + \\\n",
    "            [f\"Change_{d}\" for d in diseases] + \\\n",
    "            [f\"Rate_{d}\" for d in diseases]\n",
    "\n",
    "df = df.drop(columns=drop_cols)\n",
    "\n",
    "meta_cols = [\"PracticeCode\", \"Year\", \"Age\", \"Age_Group\"]  \n",
    "disease_cols = [c for c in df.columns if c not in meta_cols]\n",
    "\n",
    "# Melt to long format\n",
    "df_melted = df.melt(\n",
    "    id_vars=meta_cols,\n",
    "    value_vars=disease_cols,\n",
    "    var_name=\"Disease\",\n",
    "    value_name=\"Values\"\n",
    ")\n",
    "\n",
    "df_split = pd.DataFrame(df_melted[\"Values\"].tolist(), \n",
    "                        columns=[\"PatientCount\", \"Change\", \"Rate\"])\n",
    "\n",
    "df_melted = pd.concat([df_melted.drop(columns=[\"Values\"]), df_split], axis=1)\n",
    "\n",
    "df_melted.to_csv('../data/disease_prevalence.csv', index=None)"
   ]
  },
  {
   "cell_type": "markdown",
   "id": "336e78a4-3b73-4075-be57-ff4546af3b7e",
   "metadata": {},
   "source": [
    "## 05. GP Activity by HB"
   ]
  },
  {
   "cell_type": "code",
   "execution_count": 19,
   "id": "6bb40c09-9039-4795-aa65-dce431ffa1e4",
   "metadata": {},
   "outputs": [],
   "source": [
    "gp_activity_hb_df = pd.read_excel(\"../rawdata/data-may2025.xlsx\", sheet_name=\"tab6final\")\n",
    "gp_activity_hb_df.drop(columns=['DNA'], inplace=True)"
   ]
  },
  {
   "cell_type": "code",
   "execution_count": 20,
   "id": "b203f26e-68d1-448f-be06-e6e4b685551e",
   "metadata": {},
   "outputs": [],
   "source": [
    "gp_activity_hb_df.to_csv('../data/gp_activity.csv', index=None)"
   ]
  },
  {
   "cell_type": "markdown",
   "id": "b95f301a-fdd8-4497-ab66-b60d3f4fb81e",
   "metadata": {},
   "source": [
    "## 06. Hospital Activity Data"
   ]
  },
  {
   "cell_type": "code",
   "execution_count": 21,
   "id": "34dca597-e423-4e5a-bca5-e73082db5fc2",
   "metadata": {},
   "outputs": [],
   "source": [
    "def process_hospital_activity_df(df, lookup_col='lookup'):\n",
    "    # Step 1: Extract Year\n",
    "    df['Year'] = df[lookup_col].str[:7]\n",
    "    \n",
    "    # Step 2: Remove first 7 characters\n",
    "    df[lookup_col] = df[lookup_col].str[7:]\n",
    "    \n",
    "    # Step 3: Extract Geography (with special case)\n",
    "    if df[lookup_col].str.startswith('p').all():\n",
    "        df[lookup_col] = df[lookup_col].str[1:]\n",
    "    \n",
    "    special_case = \"All Scottish and Non-Scottish Residents\"\n",
    "    pattern = re.compile(r'(Male|Female|All)')\n",
    "    \n",
    "    geography_list = []\n",
    "    updated_lookup_list = []\n",
    "    \n",
    "    for val in df[lookup_col]:\n",
    "        if val.strip().startswith(special_case):\n",
    "            geography_list.append(\"Scotland\")\n",
    "            updated_lookup_list.append(val.replace(special_case, \"\", 1).strip())\n",
    "        else:\n",
    "            match = pattern.search(val)\n",
    "            if match:\n",
    "                split_index = match.start()\n",
    "                geography_list.append(val[:split_index].strip())\n",
    "                updated_lookup_list.append(val[split_index:].strip())\n",
    "            else:\n",
    "                geography_list.append(val.strip())  # No keyword found\n",
    "                updated_lookup_list.append(\"\")\n",
    "    \n",
    "    df['Geography'] = geography_list\n",
    "    df[lookup_col] = updated_lookup_list\n",
    "\n",
    "    # Step 4: Extract Gender\n",
    "    gender_list = []\n",
    "    final_lookup_list = []\n",
    "    \n",
    "    for val in df[lookup_col]:\n",
    "        if '-' in val:\n",
    "            gender_part, rest = val.split('-', 1)\n",
    "            gender_clean = gender_part.replace('Sexes', '').strip()\n",
    "            gender_list.append(gender_clean)\n",
    "            final_lookup_list.append(rest.strip())\n",
    "        else:\n",
    "            gender_list.append(val.replace('Sexes', '').strip())\n",
    "            final_lookup_list.append(\"\")\n",
    "    \n",
    "    df['Gender'] = gender_list\n",
    "    df[lookup_col] = final_lookup_list\n",
    "\n",
    "    # Step 5: Extract Age\n",
    "    age_list = []\n",
    "    last_lookup_list = []\n",
    "    \n",
    "    for val in df[lookup_col]:\n",
    "        if val.lower().startswith('all ages'):\n",
    "            age_list.append('All')\n",
    "            rest = val[len('All ages'):].strip()\n",
    "            last_lookup_list.append(rest)\n",
    "        elif 'years' in val:\n",
    "            age_part, rest = val.split('years', 1)\n",
    "            age_list.append(age_part.strip())\n",
    "            last_lookup_list.append(rest.strip())\n",
    "        else:\n",
    "            age_list.append(val.strip())\n",
    "            last_lookup_list.append(\"\")\n",
    "    \n",
    "    df['Age'] = age_list\n",
    "    df[lookup_col] = last_lookup_list\n",
    "\n",
    "    # Step 6: Rename lookup column to 'Condition'\n",
    "    df.rename(columns={lookup_col: 'Condition'}, inplace=True)\n",
    "    \n",
    "    return df[['Year', 'Geography', 'Gender', 'Age', 'Condition', \n",
    "               'stays_Number', 'stays_Rate', 'los_stays_Number', \n",
    "               'los_stays_Rate', 'avlos_stays_Rate']]"
   ]
  },
  {
   "cell_type": "code",
   "execution_count": 22,
   "id": "54b14143-f311-4f5b-950d-f4a951bda737",
   "metadata": {},
   "outputs": [],
   "source": [
    "hospital_activity_by_council_2019_20_df = pd.read_excel(\"../rawdata/table-6-main-diagnosis-by-council-area-2023-24.xlsx\", \n",
    "                                                        sheet_name=\"Data1\")\n",
    "\n",
    "hospital_activity_by_council_2019_20_df_copy = process_hospital_activity_df(hospital_activity_by_council_2019_20_df)"
   ]
  },
  {
   "cell_type": "code",
   "execution_count": 23,
   "id": "10ce5dc6-aacb-42bc-8f1f-7e930a06f853",
   "metadata": {},
   "outputs": [],
   "source": [
    "hospital_activity_by_council_2020_21_df = pd.read_excel(\"../rawdata/table-6-main-diagnosis-by-council-area-2023-24.xlsx\", \n",
    "                                                        sheet_name=\"Data2\")\n",
    "\n",
    "hospital_activity_by_council_2020_21_df_copy = process_hospital_activity_df(hospital_activity_by_council_2020_21_df)"
   ]
  },
  {
   "cell_type": "code",
   "execution_count": 24,
   "id": "09be1f1c-0127-49a2-8cff-9ac3b2ec27be",
   "metadata": {},
   "outputs": [],
   "source": [
    "hospital_activity_by_council_2021_22_df = pd.read_excel(\"../rawdata/table-6-main-diagnosis-by-council-area-2023-24.xlsx\", \n",
    "                                                        sheet_name=\"Data3\")\n",
    "\n",
    "hospital_activity_by_council_2021_22_df_copy = process_hospital_activity_df(hospital_activity_by_council_2021_22_df)"
   ]
  },
  {
   "cell_type": "code",
   "execution_count": 25,
   "id": "f68ca6ba-17ef-4804-ba4c-31b8c5c82f60",
   "metadata": {},
   "outputs": [],
   "source": [
    "hospital_activity_by_council_2022_23_df = pd.read_excel(\"../rawdata/table-6-main-diagnosis-by-council-area-2023-24.xlsx\", \n",
    "                                                        sheet_name=\"Data4\")\n",
    "\n",
    "hospital_activity_by_council_2022_23_df_copy = process_hospital_activity_df(hospital_activity_by_council_2022_23_df)"
   ]
  },
  {
   "cell_type": "code",
   "execution_count": 26,
   "id": "4af15426-f834-435b-b2ae-ddf96f4d0b77",
   "metadata": {},
   "outputs": [],
   "source": [
    "hospital_activity_by_council_2023_24_df = pd.read_excel(\"../rawdata/table-6-main-diagnosis-by-council-area-2023-24.xlsx\", \n",
    "                                                        sheet_name=\"Data5\")\n",
    "\n",
    "hospital_activity_by_council_2023_24_df_copy = process_hospital_activity_df(hospital_activity_by_council_2023_24_df)"
   ]
  },
  {
   "cell_type": "code",
   "execution_count": 27,
   "id": "6d5f9b66-7c73-43b2-94db-f6f7ff6fc35d",
   "metadata": {},
   "outputs": [],
   "source": [
    "def add_age_group_column(df):\n",
    "    age_mapping = {\n",
    "        'All': 'AllAges',\n",
    "        '0-4': 'Ages0to4',\n",
    "        '5-9': 'Ages5to14',\n",
    "        '10-14': 'Ages5to14',\n",
    "        '15-19': 'Ages15to24',\n",
    "        '20-24': 'Ages15to24',\n",
    "        '25-29': 'Ages25to44',\n",
    "        '30-34': 'Ages25to44',\n",
    "        '35-39': 'Ages25to44',\n",
    "        '40-44': 'Ages25to44',\n",
    "        '45-49': 'Ages45to64',\n",
    "        '50-54': 'Ages45to64',\n",
    "        '55-59': 'Ages45to64',\n",
    "        '60-64': 'Ages45to64',\n",
    "        '65-69': 'Ages65to74',\n",
    "        '70-74': 'Ages65to74',\n",
    "        '75-79': 'Ages75to84',\n",
    "        '80-84': 'Ages75to84',\n",
    "        '85+': 'Ages85plus',\n",
    "        '85-89': 'Ages85plus',\n",
    "        '90+': 'Ages85plus',\n",
    "        # Special aggregates\n",
    "        '65+': 'Special_65plus',\n",
    "        '75+': 'Special_75plus',\n",
    "        '<18': 'Special_Under18'\n",
    "    }\n",
    "    \n",
    "    def map_age(age_val):\n",
    "        return age_mapping.get(age_val, 'Unknown')\n",
    "    \n",
    "    df['Age_Group'] = df['Age'].apply(map_age)\n",
    "    return df"
   ]
  },
  {
   "cell_type": "code",
   "execution_count": 28,
   "id": "f4c52a19-ea32-4370-ab0c-428444b02ee4",
   "metadata": {},
   "outputs": [],
   "source": [
    "hospital_activity_by_council_2019_20_df_copy = add_age_group_column(hospital_activity_by_council_2019_20_df_copy)\n",
    "hospital_activity_by_council_2020_21_df_copy = add_age_group_column(hospital_activity_by_council_2020_21_df_copy)\n",
    "hospital_activity_by_council_2021_22_df_copy = add_age_group_column(hospital_activity_by_council_2021_22_df_copy)\n",
    "hospital_activity_by_council_2022_23_df_copy = add_age_group_column(hospital_activity_by_council_2022_23_df_copy)\n",
    "hospital_activity_by_council_2023_24_df_copy = add_age_group_column(hospital_activity_by_council_2023_24_df_copy)"
   ]
  },
  {
   "cell_type": "code",
   "execution_count": 29,
   "id": "90cff2c0-5f6b-4dfe-8b43-ef8d2539c58f",
   "metadata": {},
   "outputs": [],
   "source": [
    "hospital_activity_by_council_2019_20_df_copy.to_csv('../data/hospital_activity_2019_20.csv', index=None)\n",
    "hospital_activity_by_council_2020_21_df_copy.to_csv('../data/hospital_activity_2020_21.csv', index=None)\n",
    "hospital_activity_by_council_2021_22_df_copy.to_csv('../data/hospital_activity_2021_22.csv', index=None)\n",
    "hospital_activity_by_council_2022_23_df_copy.to_csv('../data/hospital_activity_2022_23.csv', index=None)\n",
    "hospital_activity_by_council_2023_24_df_copy.to_csv('../data/hospital_activity_2023_24.csv', index=None)"
   ]
  },
  {
   "cell_type": "markdown",
   "id": "a03588bf-cbda-464d-aec0-58f1e33ce46f",
   "metadata": {},
   "source": [
    "<hr>"
   ]
  }
 ],
 "metadata": {
  "kernelspec": {
   "display_name": "Python 3 (ipykernel)",
   "language": "python",
   "name": "python3"
  },
  "language_info": {
   "codemirror_mode": {
    "name": "ipython",
    "version": 3
   },
   "file_extension": ".py",
   "mimetype": "text/x-python",
   "name": "python",
   "nbconvert_exporter": "python",
   "pygments_lexer": "ipython3",
   "version": "3.10.16"
  }
 },
 "nbformat": 4,
 "nbformat_minor": 5
}
